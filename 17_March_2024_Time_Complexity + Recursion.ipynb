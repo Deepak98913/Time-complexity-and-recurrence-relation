{
 "cells": [
  {
   "cell_type": "markdown",
   "id": "38c2d33e-f388-44c8-8f87-a8a4dda74607",
   "metadata": {},
   "source": [
    "# Find time complexity of below code blocks :"
   ]
  },
  {
   "cell_type": "markdown",
   "id": "bc1a134d-f51b-4392-af91-fb209590b53c",
   "metadata": {},
   "source": [
    "# Problem 1 :\n",
    "def quicksort(arr):\n",
    "if len(arr) <= 1:\n",
    "return arr\n",
    "pivot = arr[len(arr) // 2]\n",
    "left = [x for x in arr if x < pivot]\n",
    "middle = [x for x in arr if x == pivot]\n",
    "right = [x for x in arr if x > pivot]\n",
    "return quicksort(left) + middle + quicksort(right)"
   ]
  },
  {
   "cell_type": "markdown",
   "id": "5f899c33-7499-47f7-b96f-406c93b14c24",
   "metadata": {},
   "source": [
    "# Answer : -\n",
    "Partitioning the array: The partitioning step involves iterating through the array once to divide it into three parts - elements less than the pivot, elements equal to the pivot, and elements greater than the pivot. This step takes O(n) time, where n is the size of the array.\n",
    "\n",
    "Recursion: After partitioning, the quicksort function recursively calls itself on the left and right subarrays. Each recursive call operates on a subarray that is at most half the size of the original array (assuming the pivot is chosen reasonably well).\n",
    "\n",
    "Therefore, the recurrence relation for the time complexity of quicksort can be expressed as:\n",
    "\n",
    "T(n) = 2 * T(n/2) + O(n)\n",
    "\n",
    "This recurrence relation represents the time taken for the two recursive calls plus the time taken for the partitioning step. By using the Master Theorem or by expanding the recurrence, it can be shown that the time complexity of quicksort implemented in this way is O(n log n) on average and O(n^2) in the worst case when the pivot is not chosen well and consistently divides the array into highly imbalanced subarrays."
   ]
  },
  {
   "cell_type": "markdown",
   "id": "c323f4c3-ae2a-46bb-a27f-6dfec5cff251",
   "metadata": {},
   "source": [
    "# Problem 2 :\n",
    "def nested_loop_example(matrix):\n",
    "rows, cols = len(matrix), len(matrix[0])\n",
    "total = 0\n",
    "for i in range(rows):\n",
    "for j in range(cols):\n",
    "total += matrix[i][j]\n",
    "return total"
   ]
  },
  {
   "cell_type": "markdown",
   "id": "0efb71e4-545a-4601-8079-cee128be915e",
   "metadata": {},
   "source": [
    "# Answer:-\n",
    "The time complexity of the nested loop in the provided code can be analyzed as follows:\n",
    "\n",
    "Let's denote the number of rows in the matrix as n and the number of columns as m.\n",
    "\n",
    "The nested loop iterates over each element in the matrix once. The outer loop iterates over each row (n iterations), and for each row, the inner loop iterates over each column (m iterations).\n",
    "\n",
    "So, the total number of iterations performed by the nested loop is n * m. Each iteration involves a constant amount of work, which includes accessing an element of the matrix and adding it to the total.\n",
    "\n",
    "Therefore, the time complexity of the nested loop is O(n * m), where n is the number of rows and m is the number of columns in the matrix.\n",
    "\n",
    "In terms of the input size, if the input matrix is considered as a two-dimensional array with n rows and m columns, the time complexity can be expressed as O(rows * columns)."
   ]
  },
  {
   "cell_type": "markdown",
   "id": "fb5d9089-df0a-46a0-9466-fc69af40fc71",
   "metadata": {},
   "source": [
    "# Problem 3 :\n",
    "def example_function(arr):\n",
    "result = 0\n",
    "for element in arr:\n",
    "result += element\n",
    "return result"
   ]
  },
  {
   "cell_type": "markdown",
   "id": "c2f95694-7764-4b4f-bd8d-816a95371acc",
   "metadata": {},
   "source": [
    "# Answer :- \n",
    "The time complexity of the provided function can be analyzed as follows:\n",
    "\n",
    "Let n be the number of elements in the input array arr.\n",
    "\n",
    "The function iterates over each element in the array exactly once, performing a constant amount of work (addition operation) for each element. Therefore, the time complexity of the loop is O(n).\n",
    "\n",
    "Hence, the overall time complexity of the example_function is O(n), where n is the size of the input array."
   ]
  },
  {
   "cell_type": "markdown",
   "id": "15a593fc-851e-4a73-9630-c5877f6e6f55",
   "metadata": {},
   "source": [
    "# Problem 4 \n",
    "def longest_increasing_subsequence(nums):\n",
    "n = len(nums)\n",
    "lis = [1] * n\n",
    "for i in range(1, n):\n",
    "for j in range(0, i):\n",
    "if nums[i] > nums[j] and lis[i] < lis[j] + 1:\n",
    "lis[i] = lis[j] + 1\n",
    "return max(lis)"
   ]
  },
  {
   "cell_type": "markdown",
   "id": "5f9310b7-b5e3-48d3-a63b-853dc704e0dd",
   "metadata": {},
   "source": [
    "# Answer :- \n",
    "\n",
    "The time complexity of the provided function, which finds the length of the longest increasing subsequence (LIS) in a given array, can be analyzed as follows:\n",
    "\n",
    "Let n be the number of elements in the input array nums.\n",
    "\n",
    "1. The function initializes an array lis of length n and sets each element to 1. This initialization takes O(n) time.\n",
    "\n",
    "2. The function then iterates over each element in the input array nums. Inside the outer loop, there is another loop that iterates from 0 to i, where i ranges from 1 to n-1. In the worst case scenario, for each i, the inner loop iterates i times.\n",
    "\n",
    "3. Inside the inner loop, there are constant time operations performed for each iteration. These operations include comparisons and updates to elements in the lis array.\n",
    "\n",
    "4. Finally, the function finds the maximum value in the lis array, which takes O(n) time.\n",
    "\n",
    "Combining all these steps, the overall time complexity of the function is O(n^2) since the nested loops contribute to quadratic time complexity in the worst case.\n",
    "\n",
    "Therefore, the time complexity of the longest_increasing_subsequence function is O(n^2), where n is the number of elements in the input array nums."
   ]
  },
  {
   "cell_type": "markdown",
   "id": "33298c97-d5d8-418f-b77c-f2e2167a276e",
   "metadata": {},
   "source": [
    "# Problem 5 :\n",
    "def mysterious_function(arr):\n",
    "n = len(arr)\n",
    "result = 0\n",
    "for i in range(n):\n",
    "for j in range(i, n):\n",
    "result += arr[i] * arr[j]\n",
    "return result"
   ]
  },
  {
   "cell_type": "markdown",
   "id": "ef22ebfd-a34f-44f4-9a43-5699dae4ded7",
   "metadata": {},
   "source": [
    "# Answer :- \n",
    "\n",
    "To analyze the time complexity of the provided function mysterious_function, let's break down its operations:\n",
    "\n",
    "1. The function begins by obtaining the length of the input array arr, which takes O(1) time.\n",
    "\n",
    "2. It initializes a variable result to 0. This operation takes O(1) time.\n",
    "\n",
    "3. The function then enters a nested loop structure. The outer loop iterates n times, where n is the length of the input array arr. For each iteration of the outer loop, the inner loop also iterates n times starting from i. This results in a total of n^2 iterations.\n",
    "\n",
    "4. Inside the inner loop, the function performs constant-time operations, such as array element access and multiplication.\n",
    "\n",
    "Finally, the function returns the computed result.\n",
    "\n",
    "Combining all these steps, we see that the dominant factor contributing to the time complexity is the nested loop structure, which results in a time complexity of O(n^2), where n is the length of the input array arr.\n",
    "\n",
    "Therefore, the time complexity of the mysterious_function is O(n^2)."
   ]
  },
  {
   "cell_type": "markdown",
   "id": "bfc84281-c8f3-4f3b-961d-d978df0e9644",
   "metadata": {},
   "source": [
    "# Solve the following problems on recursion"
   ]
  },
  {
   "cell_type": "code",
   "execution_count": 1,
   "id": "055f4b7f-84e3-4ba9-bc7f-bcc3df324195",
   "metadata": {},
   "outputs": [
    {
     "name": "stdout",
     "output_type": "stream",
     "text": [
      "6\n"
     ]
    }
   ],
   "source": [
    "# Problem 6 : Sum of Digits\n",
    "# Write a recursive function to calculate the sum of digits of a given positive integer.\n",
    "# sum_of_digits(123) -> 6\n",
    "\n",
    "def sum_of_digits(n):\n",
    "    # Base case: if the number is less than 10, return the number itself\n",
    "    if n < 10:\n",
    "        return n\n",
    "    # Recursive case: calculate the sum of digits recursively\n",
    "    else:\n",
    "        # Add the last digit to the sum of digits of the remaining number\n",
    "        return n % 10 + sum_of_digits(n // 10)\n",
    "\n",
    "# Example usage:\n",
    "print(sum_of_digits(123))  # Output: 6\n"
   ]
  },
  {
   "cell_type": "code",
   "execution_count": 2,
   "id": "cde0b095-9552-409c-82dc-3c6abee94125",
   "metadata": {},
   "outputs": [
    {
     "name": "stdout",
     "output_type": "stream",
     "text": [
      "[0, 1, 1, 2, 3, 5]\n"
     ]
    }
   ],
   "source": [
    "# Problem 7: Fibonacci Series\n",
    "# Write a recursive function to generate the first n numbers of the Fibonacci series.\n",
    "# fibonacci_series(6) -> [0, 1, 1, 2, 3, 5]\n",
    "\n",
    "def fibonacci_series(n):\n",
    "    # Base cases\n",
    "    if n == 0:\n",
    "        return []\n",
    "    elif n == 1:\n",
    "        return [0]\n",
    "    elif n == 2:\n",
    "        return [0, 1]\n",
    "    # Recursive case\n",
    "    else:\n",
    "        # Recursively generate the first n-1 Fibonacci numbers\n",
    "        fib_series = fibonacci_series(n - 1)\n",
    "        # Append the sum of the last two numbers to the list\n",
    "        fib_series.append(fib_series[-1] + fib_series[-2])\n",
    "        return fib_series\n",
    "\n",
    "# Example usage:\n",
    "print(fibonacci_series(6))  # Output: [0, 1, 1, 2, 3, 5]\n"
   ]
  },
  {
   "cell_type": "code",
   "execution_count": 3,
   "id": "8d6ca208-2b17-42cd-a15b-46d0122f36b1",
   "metadata": {},
   "outputs": [
    {
     "name": "stdout",
     "output_type": "stream",
     "text": [
      "True\n"
     ]
    }
   ],
   "source": [
    "# Problem 8 : Subset Sum\n",
    "# Given a set of positive integers and a target sum, write a recursive function to determine if there exists a subset\n",
    "# of the integers that adds up to the target sum.\n",
    "# subset_sum([3, 34, 4, 12, 5, 2], 9) -> True\n",
    "def subset_sum(nums, target):\n",
    "    # Base cases\n",
    "    if target == 0:\n",
    "        return True\n",
    "    elif not nums:\n",
    "        return False\n",
    "    # Recursive case\n",
    "    else:\n",
    "        # Include the last element and check if there exists a subset summing up to the remaining target\n",
    "        if nums[-1] <= target:\n",
    "            if subset_sum(nums[:-1], target - nums[-1]):\n",
    "                return True\n",
    "        # Exclude the last element and check if there exists a subset summing up to the target with the remaining elements\n",
    "        return subset_sum(nums[:-1], target)\n",
    "\n",
    "# Example usage:\n",
    "print(subset_sum([3, 34, 4, 12, 5, 2], 9))  # Output: True\n"
   ]
  },
  {
   "cell_type": "code",
   "execution_count": 4,
   "id": "a07e8516-e84c-45c3-9d42-a7ec67c471df",
   "metadata": {},
   "outputs": [
    {
     "name": "stdout",
     "output_type": "stream",
     "text": [
      "True\n"
     ]
    }
   ],
   "source": [
    "# Problem 9: Word Break\n",
    "# Given a non-empty string and a dictionary of words, write a recursive function to determine if the string can be\n",
    "# segmented into a space-separated sequence of dictionary words.\n",
    "# word_break( leetcode , [ leet , code ]) -> True\n",
    "\n",
    "def word_break(s, word_dict):\n",
    "    # Base case: if the string is empty, return True\n",
    "    if not s:\n",
    "        return True\n",
    "    # Recursive case\n",
    "    for i in range(1, len(s) + 1):\n",
    "        prefix = s[:i]\n",
    "        # Check if the prefix is in the word dictionary\n",
    "        if prefix in word_dict:\n",
    "            # Recursively check if the remaining substring can be segmented\n",
    "            if word_break(s[i:], word_dict):\n",
    "                return True\n",
    "    # If no segmentation is possible, return False\n",
    "    return False\n",
    "\n",
    "# Example usage:\n",
    "print(word_break(\"leetcode\", [\"leet\", \"code\"]))  # Output: True\n"
   ]
  },
  {
   "cell_type": "code",
   "execution_count": null,
   "id": "95aac94f-252c-47dc-99b6-5a4a08554da5",
   "metadata": {},
   "outputs": [],
   "source": [
    "Problem 10 : N-Queens\n",
    "Implement a recursive function to solve the N Queens problem, where you have to place N queens on an N×N\n",
    "chessboard in such a way that no two queens threaten each other.\n",
    "n_queens(4)\n",
    "[\n",
    "[\".Q..\",\n",
    "\"...Q\",\n",
    "\"Q...\",\n",
    "\"..Q.\"],\n",
    "[\"..Q.\",\n",
    "\"Q...\",\n",
    "\"...Q\",\n",
    "\".Q..\"]\n",
    "]"
   ]
  }
 ],
 "metadata": {
  "kernelspec": {
   "display_name": "Python 3 (ipykernel)",
   "language": "python",
   "name": "python3"
  },
  "language_info": {
   "codemirror_mode": {
    "name": "ipython",
    "version": 3
   },
   "file_extension": ".py",
   "mimetype": "text/x-python",
   "name": "python",
   "nbconvert_exporter": "python",
   "pygments_lexer": "ipython3",
   "version": "3.10.8"
  }
 },
 "nbformat": 4,
 "nbformat_minor": 5
}
